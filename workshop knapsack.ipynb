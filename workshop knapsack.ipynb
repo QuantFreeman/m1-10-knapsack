{
 "cells": [
  {
   "cell_type": "markdown",
   "metadata": {},
   "source": [
    "Sasha Morrison, 1.10 Submission"
   ]
  },
  {
   "cell_type": "markdown",
   "metadata": {},
   "source": [
    "## Knapsack Problem\n",
    "\n",
    "The *knapsack problem*:  given a set of integers $S = \\{s_1, s_2, \\ldots, s_n\\}$ and a target number $T$, find a subset (i.e., knapsack) of $S$ which adds up exactly to $T$.  \n",
    "\n",
    "For example, if $S = \\{1,2,5, 9, 10\\}$, there is a subset that adds up to $T = 22$, but not to $T = 23$.  Complete the following tasks related to this problem."
   ]
  },
  {
   "cell_type": "markdown",
   "metadata": {},
   "source": [
    "# 1. \n",
    "\n",
    "Find a subset of $S = \\{1,2,5, 9, 10\\}$ with sum $T = 22$.  Explain the process (algorithm) you used mentally to find the subset.  Then apply the same process in an attempt to find a subset with sum $T = 23$.  \n",
    "\n",
    "How do you know there is no such subset?"
   ]
  },
  {
   "cell_type": "markdown",
   "metadata": {},
   "source": [
    " 1. Answers:  \n",
    " \n",
    " $S = \\{1,2,5, 9, 10\\}$ with sum $T = 22$ <br>\n",
    " $\\{1,2,9,10\\}$ <br>\n",
    " \n",
    " Process:<br> Taking the largest available integer, add the next largest until within a distance of target<br> that is roughly approximate to the range of values remaining, at which point finding the first available sequence<br> to produce the target by testing all remaining values <br>\n",
    " <br>\n",
    " The process above cannot be used to produce a target of 23 from the given set of integers."
   ]
  },
  {
   "cell_type": "markdown",
   "metadata": {},
   "source": [
    "# 2.\n",
    "\n",
    "Consider the following possible algorithm for the knapsack problem, written in psuedocode: \n",
    "```python\n",
    "knapsack(S[], T):\n",
    "    K = empty\n",
    "    for each i < size(S)\n",
    "        if sum(K) + S[i] <= T, put S[i] into K\n",
    "    if sum(K) = T, return K, else return False.\n",
    "```\n",
    "**a)** Describe what this algorithm does in English.  \n",
    "\n",
    "\n",
    "**b)** Implement this algorithm in Python and run it on the $S$ and $T$ above.\n",
    "\n",
    "\n",
    "**c)** Prove that this algorithm is NOT correct.  That is, find a counterexample: a set $S$ and number $T$ for which there is a solution, but not one that the algorithm finds.  \n",
    "S = [20, 3, 19] T = 22\n",
    "\n",
    "**d)** Verify that this particular $S$ and $T$ does not give the right output when entered to your Python program."
   ]
  },
  {
   "cell_type": "markdown",
   "metadata": {},
   "source": [
    "2. Answers:  \n",
    "\n",
    "**a)** Describe what this algorithm does in English.  \n",
    "Beginning with an 'empty' bag, for each object smaller than target size.     \n",
    "If the sum of currently held objects, plus currently considered item is less than T,  \n",
    "Add the current item to the bag. \n",
    "Finally If sum of bag weight matches the target, return bag else false.  \n",
    "  \n",
    "  \n",
    "**b)** Implement this algorithm in Python and run it on the $S$ and $T$ above.  \n",
    "```python\n",
    "def knapsack(S, T):\n",
    "    K = []\n",
    "    for e in [i for i in S if i < T]:\n",
    "        if sum(K) + e <= T:\n",
    "            K.append(e)\n",
    "    if sum(K) == T: \n",
    "        return K \n",
    "    else: \n",
    "        return False\n",
    "```\n",
    "**c)** Prove that this algorithm is NOT correct.  That is, find a counterexample: a set $S$ and number $T$ for which there is a solution, but not one that the algorithm finds.  \n",
    "s = [20, 3, 19]   \n",
    "t = 22  \n",
    "\n",
    "\n",
    "**d)** Verify that this particular $S$ and $T$ does not give the right output when entered to your Python program."
   ]
  },
  {
   "cell_type": "code",
   "execution_count": 1,
   "metadata": {},
   "outputs": [
    {
     "data": {
      "text/plain": [
       "[20]"
      ]
     },
     "execution_count": 1,
     "metadata": {},
     "output_type": "execute_result"
    }
   ],
   "source": [
    "s = [20, 3, 19] \n",
    "t = 22\n",
    "\n",
    "def knapsack(S, T):\n",
    "    K = []\n",
    "    for e in [i for i in S if i < T]:\n",
    "        if sum(K) + e <= T:\n",
    "            K.append(e)\n",
    "    if sum(K) <= T: \n",
    "        return K \n",
    "    else: \n",
    "        return False\n",
    "\n",
    "knapsack(s,t)\n",
    "# Returns [20], despite [3, 19] being 'perfect'"
   ]
  },
  {
   "cell_type": "markdown",
   "metadata": {},
   "source": [
    "# 3. \n",
    "\n",
    "Another try: What if you put the elements in the knapsack from largest to smallest?  Check that this too is not a correct algorithm."
   ]
  },
  {
   "cell_type": "code",
   "execution_count": 3,
   "metadata": {},
   "outputs": [
    {
     "data": {
      "text/plain": [
       "[3, 6]"
      ]
     },
     "execution_count": 3,
     "metadata": {},
     "output_type": "execute_result"
    }
   ],
   "source": [
    "s = [3, 6, 19] \n",
    "t = 22\n",
    "\n",
    "def knapsack(S, T):\n",
    "    K = []\n",
    "    for e in [i for i in S if i < T]:\n",
    "        if sum(K) + e <= T:\n",
    "            K.append(e)\n",
    "    if sum(K) <= T: \n",
    "        return K \n",
    "    else: \n",
    "        return False\n",
    "\n",
    "knapsack(s,t)\n",
    "# Returns [3,6], despite [3, 19] being 'perfect'"
   ]
  },
  {
   "cell_type": "markdown",
   "metadata": {},
   "source": [
    "# 4.\n",
    "\n",
    "Describe a correct algorithm for the knapsack problem (that we haven't seen in class), both in English and in pseudocode.  Then implement the algorithm in Python.  Explain how you know your algorithm is correct (even if it might not be efficient)."
   ]
  },
  {
   "cell_type": "code",
   "execution_count": 5,
   "metadata": {},
   "outputs": [
    {
     "data": {
      "text/plain": [
       "(2, 5, 10)"
      ]
     },
     "execution_count": 5,
     "metadata": {},
     "output_type": "execute_result"
    }
   ],
   "source": [
    "\"\"\"\n",
    "outlist = empty\n",
    "n is 2\n",
    "while n <= len(S)\n",
    "build combination sets of length n\n",
    "check if any combinations sum to t\n",
    "if not, n += 1\n",
    "\"\"\"\n",
    "\n",
    "import itertools\n",
    "\n",
    "s=[1,2,5,9,10]\n",
    "t = 17\n",
    "\n",
    "def knapsack_legit(s, t):\n",
    "    out = []\n",
    "    n = 2\n",
    "    # if target is avail in s:\n",
    "    # return [t]\n",
    "    if t in s:\n",
    "        return [t]\n",
    "    \n",
    "    # until n > len(s):\n",
    "    # build combination sets\n",
    "    # if any combinations == t\n",
    "    # return combination\n",
    "    while n <= len(s):\n",
    "        combos = list(itertools.combinations(s, n))\n",
    "        for e in combos:\n",
    "            if sum(e) == t:\n",
    "                return e\n",
    "        n += 1\n",
    "    # if nothing found, \n",
    "    # returns failure message\n",
    "    return 'no winners found'\n",
    "\n",
    "knapsack_legit(s, t)"
   ]
  },
  {
   "cell_type": "markdown",
   "metadata": {},
   "source": [
    "# 5. Generating correct change\n",
    "\n",
    "Now, we will be making change using the fewest coins. \n",
    "\n",
    "Suppose you are a programmer for a vending machine manufacturer. Your company wants to streamline effort by giving out the fewest possible coins in change for each transaction. Suppose a customer puts in a dollar bill and purchases an item for 37 cents. What is the smallest number of coins you can use to make change? The answer is six coins: two quarters, one dime, and three pennies. \n",
    "\n",
    "How did we arrive at the answer of six coins? We start with the largest coin in our arsenal (a quarter) and use as many of those as possible, then we go to the next lowest coin value and use as many of those as possible. This is the greedy algorithm for change-making.\n",
    "\n",
    "**Question:** Write the greedy algorithm for change making.\n",
    "\n",
    "The input is the amount of change to generate (in pennies) and a list of coin sizes (in pennies)\n",
    "\n",
    "The output is the minimum number of coins to gener\n",
    "\n",
    "```\n",
    "# buys with 1 dollar for 37 pennies\n",
    "# Second argument says we can give quarters, dimes, nickels and pennies\n",
    "make_change(100 - 37, [25, 10, 5, 1])\n",
    "\n",
    "# 2 quarters, one dime, and three pennies\n",
    "output --> 6 # Output would be equivalent to the choices [2, 1, 0, 3]\n",
    "```"
   ]
  },
  {
   "cell_type": "code",
   "execution_count": 8,
   "metadata": {},
   "outputs": [
    {
     "data": {
      "text/plain": [
       "[3, 1, 1, 4]"
      ]
     },
     "execution_count": 8,
     "metadata": {},
     "output_type": "execute_result"
    }
   ],
   "source": [
    "\"\"\"\n",
    "Naive/greedy change\n",
    "\"\"\"\n",
    "\n",
    "def greedy_change(val, coins):\n",
    "    out = [0,0,0,0]\n",
    "    n = 0\n",
    "    while val > 0:\n",
    "        while val >= coins[n]:\n",
    "            val = val - coins[n]\n",
    "            out[n] += 1\n",
    "        if val < coins[n]:\n",
    "            n += 1\n",
    "    return out\n",
    "\n",
    "greedy_change(94, [25, 10, 5, 1])"
   ]
  },
  {
   "cell_type": "markdown",
   "metadata": {},
   "source": [
    "# 6 Recursive change\n",
    "\n",
    "Write the greedy change making algorithm using recursion"
   ]
  },
  {
   "cell_type": "code",
   "execution_count": 1,
   "metadata": {},
   "outputs": [
    {
     "data": {
      "text/plain": [
       "array([3., 2., 0., 1., 1.])"
      ]
     },
     "execution_count": 1,
     "metadata": {},
     "output_type": "execute_result"
    }
   ],
   "source": [
    "import numpy as np\n",
    "val = 99\n",
    "coin =  [25, 10, 5, 3, 1]\n",
    "\n",
    "def rec_change(val, c):\n",
    "    \"\"\"\n",
    "    subtracts coin at n index pos from val\n",
    "    then pass val to another instance of func\n",
    "    base is val == 0, returns empty list,\n",
    "    list is populated on the way up\n",
    "    \n",
    "    Works for varied inputs of 'c' but\n",
    "    will break without a 1 val increment\n",
    "    \"\"\"\n",
    "    out =  np.zeros(len(c))\n",
    "    # pointer for coin index\n",
    "    n = 0\n",
    "    # base case\n",
    "    if val == 0:\n",
    "        return out\n",
    "    \n",
    "    while val > 0:\n",
    "        # if val >= current coin\n",
    "        if val >= c[n]:\n",
    "            # decrement by coin\n",
    "            # pass to new instance\n",
    "            val = val - c[n]\n",
    "            out = rec_change(val, c)\n",
    "            # count coin totals\n",
    "            # on the way up\n",
    "            out[n] += 1\n",
    "            return out\n",
    "        else:\n",
    "            # move the coin pointer\n",
    "            n += 1\n",
    "            \n",
    "rec_change(val, coin)"
   ]
  },
  {
   "cell_type": "markdown",
   "metadata": {
    "jupyter": {
     "source_hidden": true
    }
   },
   "source": [
    "# 7 Dynamic Programming Change making\n",
    "\n",
    "Write a solution to the change making problem using dynamic programming.\n",
    "\n",
    "**Hint:** Start with making change for one cent and systematically work its way up to the amount of change we require. This guarantees us that at each step of the algorithm we already know the minimum number of coins needed to make change for any smaller amount. Keep a memoized table of results for each step working up to the amount of change you need to generate."
   ]
  }
 ],
 "metadata": {
  "kernelspec": {
   "display_name": "Python 3",
   "language": "python",
   "name": "python3"
  },
  "language_info": {
   "codemirror_mode": {
    "name": "ipython",
    "version": 3
   },
   "file_extension": ".py",
   "mimetype": "text/x-python",
   "name": "python",
   "nbconvert_exporter": "python",
   "pygments_lexer": "ipython3",
   "version": "3.8.3"
  }
 },
 "nbformat": 4,
 "nbformat_minor": 4
}
